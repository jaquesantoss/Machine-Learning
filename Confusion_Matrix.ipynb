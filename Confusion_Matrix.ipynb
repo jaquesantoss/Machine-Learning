{
  "nbformat": 4,
  "nbformat_minor": 0,
  "metadata": {
    "colab": {
      "provenance": []
    },
    "kernelspec": {
      "name": "python3",
      "display_name": "Python 3"
    },
    "language_info": {
      "name": "python"
    }
  },
  "cells": [
    {
      "cell_type": "markdown",
      "source": [
        "Calcular métricas de desempenho da rede a partir da matrix de confusão, considerando VP, FP, VN, FN"
      ],
      "metadata": {
        "id": "yHP0Rqyr3N6N"
      }
    },
    {
      "cell_type": "code",
      "execution_count": null,
      "metadata": {
        "id": "B9YRVAo53BRI"
      },
      "outputs": [],
      "source": [
        "!pip install -q tensorflow-gpu=2.0.0-beta1"
      ]
    },
    {
      "cell_type": "code",
      "source": [
        "from tensorflow.keras import datasets, layers, models\n",
        "import matplotlib.pyplot as plt\n",
        "import tensorflow as tf\n",
        "import numpy as np\n",
        "import seaborn as sns\n",
        "import pandas as pd"
      ],
      "metadata": {
        "id": "b4mr0e743kVR"
      },
      "execution_count": null,
      "outputs": []
    },
    {
      "cell_type": "code",
      "source": [
        "tf.__version___"
      ],
      "metadata": {
        "id": "33PXfD4Z32SA"
      },
      "execution_count": null,
      "outputs": []
    },
    {
      "cell_type": "code",
      "source": [
        "%load_ext tensorboard"
      ],
      "metadata": {
        "id": "g2B2aWyS39uf"
      },
      "execution_count": null,
      "outputs": []
    },
    {
      "cell_type": "code",
      "source": [
        "logdir='log'"
      ],
      "metadata": {
        "id": "9Qn6y5_w393X"
      },
      "execution_count": null,
      "outputs": []
    },
    {
      "cell_type": "code",
      "source": [
        "(train_images, train labels), (test_images), test_labels) = datasets.mnist.load_data()\n",
        "\n",
        "train_images = train_images.reshape((60000, 28, 28, 1))\n",
        "test_images = test_images.reshape((10000, 28, 28, 1))\n",
        "\n",
        "train_images, test_images = train_images/255.0, test_images / 255.0\n",
        "\n",
        "classes = [0,1,2,3,4,5,6,7,8,9]"
      ],
      "metadata": {
        "id": "u71ZBMGW4DP3"
      },
      "execution_count": null,
      "outputs": []
    },
    {
      "cell_type": "code",
      "source": [
        "model = models.Sequential()\n",
        "model.add(layers.Conv2D(32, (3, 3), activation = 'relu', input_shape=(28,28,1)))\n",
        "model.add(layers.MaxPooling2D((2,2)))\n",
        "model.add(layers.Conv2D(64, (3, 3), activation = 'relu'))\n",
        "model.add(layers.MaxPooling2D((2,2)))\n",
        "model.add(layers.Conv2D(64, (3, 3), activation = 'relu'))\n",
        "model.add(layers.MaxPooling2D((2,2)))\n",
        "\n",
        "model.add(layers.Flatten())\n",
        "model.add(layers.Dense(64, activation='relu'))\n",
        "model.add(layers.Dense(64, activation='softmax'))"
      ],
      "metadata": {
        "id": "6uPzs_m54tfs"
      },
      "execution_count": null,
      "outputs": []
    },
    {
      "cell_type": "code",
      "source": [
        "tensorboard_callback = tf.keras.callback.TensorBoard(logdir, histogram_freq=1)"
      ],
      "metadata": {
        "id": "IsuVkWOq6l5I"
      },
      "execution_count": null,
      "outputs": []
    },
    {
      "cell_type": "code",
      "source": [
        "model.compile = (optimizer = 'adam',\n",
        "                 loss = 'sparse_categorical_crossentropy',\n",
        "                 metrics=['accuracy'])\n",
        "\n",
        "model.fit(x = train_images,\n",
        "          y=train_labels,\n",
        "          epochs=5,\n",
        "          validation_data=(test_images, test_labels))"
      ],
      "metadata": {
        "id": "glNsrev-6vW3"
      },
      "execution_count": null,
      "outputs": []
    },
    {
      "cell_type": "code",
      "source": [
        "y_true = test_labels\n",
        "y_pred=model.predict_classes(test_images)"
      ],
      "metadata": {
        "id": "DTGUAlAH7Zes"
      },
      "execution_count": null,
      "outputs": []
    },
    {
      "cell_type": "code",
      "source": [
        "classes=[0,1,2,3,4,5,6,7,8,9]"
      ],
      "metadata": {
        "id": "xGb0ZG5j7mMx"
      },
      "execution_count": null,
      "outputs": []
    },
    {
      "cell_type": "code",
      "source": [
        "con_mat = tf.math.confusion_matrix(labels=y_true, predictions=y_pred).numpy()\n",
        "con_mat_norm = np.around(con_mat.astype('float') / con_mat.sum(axis=1)[:, np.newaxis], decimals=2)\n",
        "con_mat_df = pd.DataFrame(con_mat_norm,\n",
        "                          index=classes,\n",
        "                          columns = classes)\n",
        "\n",
        "figure = plt.figure(figsize=(8,8))\n",
        "sns.heatmap(con_mat_df, annot=True, cmap=plt.cm.Blues)\n",
        "plt.tight_layout()\n",
        "plt.ylabel('True label')\n",
        "plt.xlabel('Predicted label')\n",
        "plt.show()"
      ],
      "metadata": {
        "id": "hMn6n9hR7szD"
      },
      "execution_count": null,
      "outputs": []
    },
    {
      "cell_type": "code",
      "source": [
        "model1 = models.Sequential()\n",
        "model1.add(layers.Conv2D(32, (3, 3), activation = 'relu', input_shape=(28,28,1)))\n",
        "model1.add(layers.MaxPooling2D((2,2)))\n",
        "model1.add(layers.Conv2D(64, (3, 3), activation = 'relu'))\n",
        "model1.add(layers.MaxPooling2D((2,2)))\n",
        "model1.add(layers.Conv2D(64, (3, 3), activation = 'relu'))\n",
        "model1.add(layers.MaxPooling2D((2,2)))\n",
        "\n",
        "model1.add(layers.Flatten())\n",
        "model1.add(layers.Dense(64, activation='relu'))\n",
        "model1.add(layers.Dense(64, activation='softmax'))"
      ],
      "metadata": {
        "id": "XVmCdh6Z9NFS"
      },
      "execution_count": null,
      "outputs": []
    },
    {
      "cell_type": "code",
      "source": [
        "model.compile = (optimizer = 'adam',\n",
        "                 loss = 'sparse_categorical_crossentropy',\n",
        "                 metrics=['accuracy'])\n",
        "\n",
        "model.fit(x = train_images,\n",
        "          y=train_labels,\n",
        "          epochs=5,\n",
        "          validation_data=(test_images, test_labels))"
      ],
      "metadata": {
        "id": "Fm27-aRv9XMx"
      },
      "execution_count": null,
      "outputs": []
    }
  ]
}