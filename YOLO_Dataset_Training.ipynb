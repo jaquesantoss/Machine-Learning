{
  "nbformat": 4,
  "nbformat_minor": 0,
  "metadata": {
    "colab": {
      "provenance": []
    },
    "kernelspec": {
      "name": "python3",
      "display_name": "Python 3"
    },
    "language_info": {
      "name": "python"
    }
  },
  "cells": [
    {
      "cell_type": "code",
      "execution_count": 1,
      "metadata": {
        "id": "KIxTGjqg-tyZ"
      },
      "outputs": [],
      "source": [
        "import struct\n",
        "import numpy as np\n",
        "import tensorflow as tf\n",
        "from tensorflow.keras.layers import Conv2D\n",
        "from tensorflow.keras.layers import Input\n",
        "from tensorflow.keras.layers import BatchNormalization\n",
        "from tensorflow.keras.layers import LeakyReLU\n",
        "from tensorflow.keras.layers import ZeroPadding2D\n",
        "from tensorflow.keras.layers import UpSampling2D\n",
        "from tensorflow.keras.layers import add, concatenate\n",
        "from tensorflow.keras.models import Model\n",
        "from tensorflow.keras.preprocessing.image import load_img\n",
        "import matplotlib.pyplot as plt\n",
        "from matplotlib import pyplot\n",
        "from matplotlib.patches import Rectangle\n",
        "from numpy import expand_dims"
      ]
    },
    {
      "cell_type": "code",
      "source": [
        "# define the model\n",
        "model = make_yolov3_model()\n",
        "# load the model weights\n",
        "weight_reader = WeightReader('/content/drive/My Drive/DPprojects/Object Detection - Yolo/model/yolov3.weights')\n",
        "# set the model weights into the model\n",
        "weight_reader.load_weights(model)\n",
        "# # save the model to file\n",
        "# model.save('/content/drive/My Drive/DPprojects/Object Detection - Yolo/model/model.h5')"
      ],
      "metadata": {
        "id": "srZcz3Tw_m3Y"
      },
      "execution_count": null,
      "outputs": []
    },
    {
      "cell_type": "code",
      "source": [
        "model.summary()"
      ],
      "metadata": {
        "id": "HSouSnFn_qnY"
      },
      "execution_count": null,
      "outputs": []
    },
    {
      "cell_type": "code",
      "source": [
        "labels = [\"person\", \"bicycle\", \"car\", \"motorbike\", \"aeroplane\", \"bus\", \"train\", \"truck\",\n",
        "\t\"boat\", \"traffic light\", \"fire hydrant\", \"stop sign\", \"parking meter\", \"bench\",\n",
        "\t\"bird\", \"cat\", \"dog\", \"horse\", \"sheep\", \"cow\", \"elephant\", \"bear\", \"zebra\", \"giraffe\",\n",
        "\t\"backpack\", \"umbrella\", \"handbag\", \"tie\", \"suitcase\", \"frisbee\", \"skis\", \"snowboard\",\n",
        "\t\"sports ball\", \"kite\", \"baseball bat\", \"baseball glove\", \"skateboard\", \"surfboard\",\n",
        "\t\"tennis racket\", \"bottle\", \"wine glass\", \"cup\", \"fork\", \"knife\", \"spoon\", \"bowl\", \"banana\",\n",
        "\t\"apple\", \"sandwich\", \"orange\", \"broccoli\", \"carrot\", \"hot dog\", \"pizza\", \"donut\", \"cake\",\n",
        "\t\"chair\", \"sofa\", \"pottedplant\", \"bed\", \"diningtable\", \"toilet\", \"tvmonitor\", \"laptop\", \"mouse\",\n",
        "\t\"remote\", \"keyboard\", \"cell phone\", \"microwave\", \"oven\", \"toaster\", \"sink\", \"refrigerator\",\n",
        "\t\"book\", \"clock\", \"vase\", \"scissors\", \"teddy bear\", \"hair drier\", \"toothbrush\"]"
      ],
      "metadata": {
        "id": "Tj7NxuE1_t0A"
      },
      "execution_count": null,
      "outputs": []
    },
    {
      "cell_type": "code",
      "source": [
        "IMAGE_WIDTH=416\n",
        "IMAGE_HEIGHT=416\n",
        "def load_and_preprocess_image(path,shape):\n",
        "  image=tf.io.read_file(path)\n",
        "  width,height=load_img(path).size\n",
        "  image=tf.image.decode_jpeg(image,channels=3)\n",
        "  image=tf.image.resize(image, shape)\n",
        "  image/=255\n",
        "  return image,width,height"
      ],
      "metadata": {
        "id": "36WpP6uT_wew"
      },
      "execution_count": null,
      "outputs": []
    },
    {
      "cell_type": "code",
      "source": [
        "photo_filename='/content/drive/My Drive/DPprojects/Object Detection - Yolo/images/traffic.jpg'\n",
        "_image, image_w, image_h=load_and_preprocess_image(photo_filename,[IMAGE_WIDTH,IMAGE_HEIGHT])\n",
        "plt.imshow(_image)"
      ],
      "metadata": {
        "id": "AwPSio-7_zWR"
      },
      "execution_count": null,
      "outputs": []
    },
    {
      "cell_type": "code",
      "source": [
        "image = expand_dims(_image, 0)\n",
        "yhat = model.predict(image)\n",
        "print([a.shape for a in yhat])"
      ],
      "metadata": {
        "id": "roCv26fv_09g"
      },
      "execution_count": null,
      "outputs": []
    },
    {
      "cell_type": "code",
      "source": [
        "# This cell is based on https://machinelearningmastery.com/how-to-perform-object-detection-with-yolov3-in-keras/\n",
        "class BoundBox:\n",
        "\t'''\n",
        "\tObjects of boxes. (xmin,ymin) represents the upleft coordinate of the box while (xmax,ymax) means downright one.\n",
        "\t'''\n",
        "\tdef __init__(self, xmin, ymin, xmax, ymax, objness = None, classes = None):\n",
        "\t\tself.xmin = xmin\n",
        "\t\tself.ymin = ymin\n",
        "\t\tself.xmax = xmax\n",
        "\t\tself.ymax = ymax\n",
        "\t\tself.objness = objness\n",
        "\t\tself.classes = classes\n",
        "\t\tself.label = -1\n",
        "\t\tself.score = -1\n",
        "\n",
        "\tdef get_label(self):\n",
        "\t\tif self.label == -1:\n",
        "\t\t\tself.label = np.argmax(self.classes)\n",
        "\n",
        "\t\treturn self.label\n",
        "\n",
        "\tdef get_score(self):\n",
        "\t\tif self.score == -1:\n",
        "\t\t\tself.score = self.classes[self.get_label()]\n",
        "\n",
        "\t\treturn self.score\n",
        "\n",
        "def _sigmoid(x):\n",
        "\treturn 1. / (1. + np.exp(-x))\n",
        "\n",
        "def decode_netout(netout, anchors, net_h, net_w):\n",
        "\tgrid_h, grid_w = netout.shape[:2]\n",
        "\tnb_box = 3\n",
        "\tnetout = netout.reshape((grid_h, grid_w, nb_box, -1))\n",
        "\tnb_class = netout.shape[-1] - 5\n",
        "\tboxes = []\n",
        "\tnetout[..., :2]  = _sigmoid(netout[..., :2])\n",
        "\tnetout[..., 4:]  = _sigmoid(netout[..., 4:])\n",
        "\tnetout[..., 5:]  = netout[..., 4][..., np.newaxis] * netout[..., 5:]\n",
        "\n",
        "\tfor i in range(grid_h*grid_w):\n",
        "\t\trow = i / grid_w\n",
        "\t\tcol = i % grid_w\n",
        "\t\tfor b in range(nb_box):\n",
        "\t\t\t# 4th element is objectness score\n",
        "\t\t\tobjectness = netout[int(row)][int(col)][b][4]\n",
        "\t\t\t# if(objectness.all() <= obj_thresh): continue\n",
        "\t\t\t# first 4 elements are x, y, w, and h\n",
        "\t\t\tx, y, w, h = netout[int(row)][int(col)][b][:4]\n",
        "\t\t\tx = (col + x) / grid_w # center position, unit: image width\n",
        "\t\t\ty = (row + y) / grid_h # center position, unit: image height\n",
        "\t\t\tw = anchors[2 * b + 0] * np.exp(w) / net_w # unit: image width\n",
        "\t\t\th = anchors[2 * b + 1] * np.exp(h) / net_h # unit: image height\n",
        "\t\t\t# last elements are class probabilities\n",
        "\t\t\tclasses = netout[int(row)][col][b][5:]\n",
        "\t\t\tbox = BoundBox(x-w/2, y-h/2, x+w/2, y+h/2, objectness, classes)\n",
        "\t\t\tboxes.append(box)\n",
        "\treturn boxes"
      ],
      "metadata": {
        "id": "meXlAWzQ_4WC"
      },
      "execution_count": null,
      "outputs": []
    },
    {
      "cell_type": "code",
      "source": [
        "anchors = [[116,90, 156,198, 373,326], [30,61, 62,45, 59,119], [10,13, 16,30, 33,23]]\n",
        "boxes = list()\n",
        "for i in range(len(yhat)):\n",
        "\tboxes += decode_netout(yhat[i][0], anchors[i], net_h=IMAGE_HEIGHT, net_w=IMAGE_WIDTH)\n",
        "\n",
        "for i in range(len(boxes)):\n",
        "\tx_offset, x_scale = (IMAGE_WIDTH - IMAGE_WIDTH)/2./IMAGE_HEIGHT, float(IMAGE_WIDTH)/IMAGE_WIDTH\n",
        "\ty_offset, y_scale = (IMAGE_HEIGHT - IMAGE_HEIGHT)/2./IMAGE_HEIGHT, float(IMAGE_HEIGHT)/IMAGE_HEIGHT\n",
        "\tboxes[i].xmin = int((boxes[i].xmin - x_offset) / x_scale * image_w)\n",
        "\tboxes[i].xmax = int((boxes[i].xmax - x_offset) / x_scale * image_w)\n",
        "\tboxes[i].ymin = int((boxes[i].ymin - y_offset) / y_scale * image_h)\n",
        "\tboxes[i].ymax = int((boxes[i].ymax - y_offset) / y_scale * image_h)"
      ],
      "metadata": {
        "id": "St3KHOyO_6kg"
      },
      "execution_count": null,
      "outputs": []
    },
    {
      "cell_type": "code",
      "source": [
        "len(boxes)"
      ],
      "metadata": {
        "id": "QUnA5Wp4_8er"
      },
      "execution_count": null,
      "outputs": []
    },
    {
      "cell_type": "code",
      "source": [
        "def box_filter(boxes,labels,threshold_socre):\n",
        "\tvalid_boxes=[]\n",
        "\tvalid_labels=[]\n",
        "\tvalid_scores=[]\n",
        "\tfor box in boxes:\n",
        "\t\tfor i in range(len(labels)):\n",
        "\t\t\tif box.classes[i] > threshold_socre:\n",
        "\t\t\t\tvalid_boxes.append(box)\n",
        "\t\t\t\tvalid_labels.append(labels[i])\n",
        "\t\t\t\tvalid_scores.append(box.classes[i])\n",
        "\n",
        "\treturn (valid_boxes,valid_labels,valid_scores)"
      ],
      "metadata": {
        "id": "s0HF5DVf_-Ei"
      },
      "execution_count": null,
      "outputs": []
    },
    {
      "cell_type": "code",
      "source": [
        "def draw_boxes(filename, valid_data):\n",
        "\n",
        "\tdata = pyplot.imread(filename)\n",
        "\tpyplot.imshow(data)\n",
        "\tax = pyplot.gca()\n",
        "\tfor i in range(len(valid_data[0])):\n",
        "\t\tbox = valid_data[0][i]\n",
        "\t\ty1, x1, y2, x2 = box.ymin, box.xmin, box.ymax, box.xmax\n",
        "\t\twidth, height = x2 - x1, y2 - y1\n",
        "\t\trect = Rectangle((x1, y1), width, height, fill=False, color='white')\n",
        "\t\tax.add_patch(rect)\n",
        "\t\tprint(valid_data[1][i], valid_data[2][i])\n",
        "\t\tlabel = \"%s (%.3f)\" % (valid_data[1][i], valid_data[2][i])\n",
        "\t\tpyplot.text(x1, y1, label, color='white')\n",
        "\tpyplot.show()"
      ],
      "metadata": {
        "id": "xJdNfBw_AAMK"
      },
      "execution_count": null,
      "outputs": []
    },
    {
      "cell_type": "code",
      "source": [
        "draw_boxes(photo_filename,valid_data)"
      ],
      "metadata": {
        "id": "n_iItYZvAAXi"
      },
      "execution_count": null,
      "outputs": []
    },
    {
      "cell_type": "code",
      "source": [
        "def encoder_dic(valid_data):\n",
        "  data_dic={}\n",
        "  (valid_boxes,valid_labels,valid_scores)=valid_data\n",
        "  for box, label,score in zip(valid_boxes,valid_labels,valid_scores):\n",
        "    if label not in data_dic:\n",
        "      data_dic[label]=[[score,box,'kept']]\n",
        "    else:\n",
        "      data_dic[label].append([score,box,'kept'])\n",
        "\n",
        "  return data_dic\n",
        "dic=encoder_dic(valid_data)"
      ],
      "metadata": {
        "id": "AVT5AArCADqj"
      },
      "execution_count": null,
      "outputs": []
    },
    {
      "cell_type": "code",
      "source": [
        "def decode_box_coor(box):\n",
        "  return (box.xmin, box.ymin,box.xmax, box.ymax )\n",
        "\n",
        "def iou(box1, box2):\n",
        "  (box1_x1, box1_y1, box1_x2, box1_y2) = decode_box_coor(box1)\n",
        "  (box2_x1, box2_y1, box2_x2, box2_y2) = decode_box_coor(box2)\n",
        "\n",
        "  xi1 = max(box1_x1,box2_x1)\n",
        "  yi1 = max(box1_y1,box2_y1)\n",
        "  xi2 = min(box1_x2,box2_x2)\n",
        "  yi2 = min(box1_y2,box2_y2)\n",
        "  inter_width = xi2-xi1\n",
        "  inter_height = yi2-yi1\n",
        "  inter_area = max(inter_height,0)*max(inter_width,0)\n",
        "\n",
        "  box1_area = (box1_x2-box1_x1)*(box1_y2-box1_y1)\n",
        "  box2_area = (box2_x2-box2_x1)*(box2_y2-box2_y1)\n",
        "  union_area = box1_area+box2_area-inter_area\n",
        "\n",
        "  iou = inter_area/union_area\n",
        "\n",
        "  return iou\n",
        "\n",
        "def do_nms(data_dic, nms_thresh):\n",
        "  final_boxes,final_scores,final_labels=list(),list(),list()\n",
        "  for label in data_dic:\n",
        "    scores_boxes=sorted(data_dic[label],reverse=True)\n",
        "    for i in range(len(scores_boxes)):\n",
        "      if scores_boxes[i][2]=='removed': continue\n",
        "      for j in range(i+1,len(scores_boxes)):\n",
        "        if iou(scores_boxes[i][1],scores_boxes[j][1]) >= nms_thresh:\n",
        "          scores_boxes[j][2]=\"removed\"\n",
        "\n",
        "    for e in scores_boxes:\n",
        "      print(label+' '+str(e[0]) + \" status: \"+ e[2])\n",
        "      if e[2]=='kept':\n",
        "        final_boxes.append(e[1])\n",
        "        final_labels.append(label)\n",
        "        final_scores.append(e[0])\n",
        "\n",
        "\n",
        "  return (final_boxes,final_labels,final_scores)"
      ],
      "metadata": {
        "id": "J3awsanqAGl0"
      },
      "execution_count": null,
      "outputs": []
    },
    {
      "cell_type": "code",
      "source": [
        "final_data=do_nms(dic, 0.7)"
      ],
      "metadata": {
        "id": "slGvmqbNAKFi"
      },
      "execution_count": null,
      "outputs": []
    },
    {
      "cell_type": "code",
      "source": [
        "draw_boxes(photo_filename,final_data)"
      ],
      "metadata": {
        "id": "zW-AV80iAMBj"
      },
      "execution_count": null,
      "outputs": []
    },
    {
      "cell_type": "code",
      "source": [
        "def yolo_non_max_suppression(scores, boxes, classes, max_boxes = 10, iou_threshold = 0.5):\n",
        "\n",
        "    max_boxes_tensor = K.variable(max_boxes, dtype='int32')     # tensor to be used in tf.image.non_max_suppression()\n",
        "    K.get_session().run(tf.variables_initializer([max_boxes_tensor])) # initialize variable max_boxes_tensor\n",
        "    nms_indices = tf.image.non_max_suppression(scores=scores,boxes=boxes,max_output_size=max_boxes,iou_threshold=iou_threshold)\n",
        "\n",
        "    scores = K.gather(scores,nms_indices)\n",
        "    boxes = K.gather(boxes,nms_indices)\n",
        "    classes = K.gather(classes,nms_indices)\n",
        "\n",
        "    return scores, boxes, classes"
      ],
      "metadata": {
        "id": "OgCMCksgANn0"
      },
      "execution_count": null,
      "outputs": []
    }
  ]
}